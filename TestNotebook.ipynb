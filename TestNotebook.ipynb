{
 "cells": [
  {
   "cell_type": "code",
   "execution_count": 1,
   "metadata": {},
   "outputs": [],
   "source": [
    "from AdvancedStockGame import AdvancedStockGame\n",
    "import numpy as np\n",
    "from stable_baselines3 import PPO\n",
    "import csv\n",
    "import datetime\n",
    "import argparse\n",
    "import os\n",
    "import pandas as pd\n",
    "import pandas_market_calendars as mcal\n"
   ]
  },
  {
   "cell_type": "code",
   "execution_count": 2,
   "metadata": {},
   "outputs": [],
   "source": [
    "\n",
    "def evaluate(model, env):\n",
    "    obs, info = env.reset()\n",
    "\n",
    "    portfolio = []\n",
    "    actions = []\n",
    "    total_reward = 0\n",
    "    i = 0\n",
    "    while True:  \n",
    "        action, _states = model.predict(obs, deterministic=True)\n",
    "        obs, reward, done, term, info = env.step(action)\n",
    "        total_reward += reward\n",
    "        actions.append(action)\n",
    "        portfolio.append(env.get_portfolio_value())\n",
    "        i += 1\n",
    "        if done:\n",
    "            break\n",
    "    \n",
    "\n",
    "\n",
    "    action, _states = model.predict(obs,deterministic=True)\n",
    "    actions.append(action)\n",
    "\n",
    "    return actions, portfolio, total_reward\n",
    "\n",
    "def pct(x):\n",
    "    return str(np.round(x, decimals=2)) + '%'\n",
    "def rnd(x):\n",
    "    return str(np.round(x, decimals=2))\n",
    "\n",
    "\n",
    "\n",
    "\n",
    "\n"
   ]
  },
  {
   "cell_type": "code",
   "execution_count": 3,
   "metadata": {},
   "outputs": [],
   "source": [
    "dataFile = 'full_data.csv'\n",
    "env = AdvancedStockGame(dataFile)\n",
    "model = PPO.load('models/primo_model/primo_model', env=env, device='cuda:0')\n"
   ]
  },
  {
   "cell_type": "code",
   "execution_count": 7,
   "metadata": {},
   "outputs": [],
   "source": [
    "obs, info = env.reset()"
   ]
  },
  {
   "cell_type": "code",
   "execution_count": 4,
   "metadata": {},
   "outputs": [
    {
     "ename": "NameError",
     "evalue": "name 'obs' is not defined",
     "output_type": "error",
     "traceback": [
      "\u001b[1;31m---------------------------------------------------------------------------\u001b[0m",
      "\u001b[1;31mNameError\u001b[0m                                 Traceback (most recent call last)",
      "Cell \u001b[1;32mIn[4], line 1\u001b[0m\n\u001b[1;32m----> 1\u001b[0m action, _states \u001b[39m=\u001b[39m model\u001b[39m.\u001b[39mpredict(obs, deterministic\u001b[39m=\u001b[39m\u001b[39mTrue\u001b[39;00m)\n\u001b[0;32m      2\u001b[0m obs, reward, done, term, info \u001b[39m=\u001b[39m env\u001b[39m.\u001b[39mstep(\u001b[39m3\u001b[39m)\n\u001b[0;32m      3\u001b[0m \u001b[39mprint\u001b[39m(action, reward)\n",
      "\u001b[1;31mNameError\u001b[0m: name 'obs' is not defined"
     ]
    }
   ],
   "source": [
    "\n",
    "action, _states = model.predict(obs, deterministic=True)\n",
    "obs, reward, done, term, info = env.step(3)\n",
    "print(action, reward)\n",
    "print(env.current_observation['portfolio'])\n",
    "print(env.real_portfolio)"
   ]
  },
  {
   "cell_type": "code",
   "execution_count": 5,
   "metadata": {},
   "outputs": [],
   "source": [
    "actions, portfolio, total_reward = evaluate(model, env)\n"
   ]
  },
  {
   "cell_type": "code",
   "execution_count": 6,
   "metadata": {},
   "outputs": [
    {
     "name": "stdout",
     "output_type": "stream",
     "text": [
      "[0 0 0]\n",
      "-9622.0\n",
      "[3] [9623]\n"
     ]
    }
   ],
   "source": [
    "actions = np.array(actions)\n",
    "print(env.current_observation['portfolio'])\n",
    "print(total_reward)\n",
    "actions = np.array(actions)\n",
    "elements, counts = np.unique(actions, return_counts=True)\n",
    "print(elements, counts)\n"
   ]
  },
  {
   "attachments": {},
   "cell_type": "markdown",
   "metadata": {},
   "source": [
    "[0 0 0]\n",
    "-9622.0\n",
    "[3] [9623]"
   ]
  },
  {
   "cell_type": "code",
   "execution_count": 33,
   "metadata": {},
   "outputs": [
    {
     "data": {
      "text/plain": [
       "[1, 0, 0]"
      ]
     },
     "execution_count": 33,
     "metadata": {},
     "output_type": "execute_result"
    },
    {
     "ename": "",
     "evalue": "",
     "output_type": "error",
     "traceback": [
      "\u001b[1;31mThe Kernel crashed while executing code in the the current cell or a previous cell. Please review the code in the cell(s) to identify a possible cause of the failure. Click <a href='https://aka.ms/vscodeJupyterKernelCrash'>here</a> for more info. View Jupyter <a href='command:jupyter.viewOutput'>log</a> for further details."
     ]
    }
   ],
   "source": [
    "stockList = ['AAPL', 'NVDA', 'TSLA']\n",
    "def import_last_sell():\n",
    "\t\tdf = pd.read_csv('Runner/last_sell.csv')\n",
    "\t\trecent_sell = [0] * len(stockList)\n",
    "\t\tfor i in range(len(stockList)):\n",
    "\t\t\tif(recent_date(df[stockList[i]][0])):\n",
    "\t\t\t\trecent_sell[i] = 1\n",
    "\t\t\n",
    "\t\treturn recent_sell\n",
    "\t\n",
    "def recent_date(date):\n",
    "\tnyse = mcal.get_calendar('NYSE')\n",
    "\tnow = datetime.datetime.now()\n",
    "\tdate = datetime.datetime.strptime(date, '%Y-%m-%d %H:%M:%S')\n",
    "\tschedule = nyse.schedule(end_date=datetime.datetime.strftime(now, '%Y-%m-%d'), start_date=datetime.datetime.strftime(date, '%Y-%m-%d'))\n",
    "\treturn len(schedule) < 4\n",
    "\n",
    "import_last_sell()"
   ]
  },
  {
   "cell_type": "code",
   "execution_count": 27,
   "metadata": {},
   "outputs": [
    {
     "name": "stdout",
     "output_type": "stream",
     "text": [
      "3\n"
     ]
    }
   ],
   "source": [
    "nyse = mcal.get_calendar('NYSE')\n",
    "now = datetime.datetime.now()\n",
    "schedule = nyse.schedule( start_date='2024-04-10', end_date=datetime.datetime.strftime(now, '%Y-%m-%d'))\n",
    "print(len(schedule))\n"
   ]
  },
  {
   "cell_type": "code",
   "execution_count": 6,
   "metadata": {},
   "outputs": [
    {
     "data": {
      "text/plain": [
       "True"
      ]
     },
     "execution_count": 6,
     "metadata": {},
     "output_type": "execute_result"
    }
   ],
   "source": [
    "def is_market_open():\n",
    "    nyse = mcal.get_calendar('NYSE')\n",
    "    today = pd.Timestamp.now().normalize()\n",
    "    day = nyse.valid_days(start_date=today, end_date=today).size > 0\n",
    "    return datetime.datetime.now().time() < datetime.datetime.strptime(\"16:00\", \"%H:%M\").time() and datetime.datetime.now().time() > datetime.datetime.strptime(\"09:30\", \"%H:%M\").time() and day\n",
    "\n",
    "is_market_open()\n"
   ]
  }
 ],
 "metadata": {
  "kernelspec": {
   "display_name": "Python 3",
   "language": "python",
   "name": "python3"
  },
  "language_info": {
   "codemirror_mode": {
    "name": "ipython",
    "version": 3
   },
   "file_extension": ".py",
   "mimetype": "text/x-python",
   "name": "python",
   "nbconvert_exporter": "python",
   "pygments_lexer": "ipython3",
   "version": "3.12.1 (tags/v3.12.1:2305ca5, Dec  7 2023, 22:03:25) [MSC v.1937 64 bit (AMD64)]"
  },
  "orig_nbformat": 4,
  "vscode": {
   "interpreter": {
    "hash": "9240d949b7e875368571ba59acc67192d2efbcc4561b3c6f94c83d7858e18732"
   }
  }
 },
 "nbformat": 4,
 "nbformat_minor": 2
}

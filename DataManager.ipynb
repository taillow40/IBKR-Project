{
 "cells": [
  {
   "cell_type": "code",
   "execution_count": 2,
   "metadata": {},
   "outputs": [],
   "source": [
    "import pandas as pd\n",
    "import os\n",
    "import numpy as np\n",
    "data_folder_path = 'data'"
   ]
  },
  {
   "cell_type": "code",
   "execution_count": 31,
   "metadata": {},
   "outputs": [],
   "source": []
  },
  {
   "cell_type": "code",
   "execution_count": 4,
   "metadata": {},
   "outputs": [],
   "source": [
    "\n",
    "def combine_dfs(df1, df2):\n",
    "  matching_cols = set(df1.columns) & set(df2.columns)\n",
    "  if not matching_cols:\n",
    "    combined_df = pd.concat([df1, df2], axis=1, join='outer')\n",
    "  else:\n",
    "    combined_df = pd.concat([df1, df2], axis=0)\n",
    "  combined_df = combined_df.loc[~combined_df.index.duplicated(keep='first')]\n",
    "  return combined_df\n",
    "   \n",
    "\n",
    "stock3 = ['BAC', 'TSLA', 'AAPL']\n",
    "combined_df = pd.DataFrame()\n",
    "for stock in stock3:\n",
    "    stock_df = pd.DataFrame() \n",
    "    for filename in os.listdir(data_folder_path):\n",
    "        if filename.endswith(\".csv\") and stock in filename and 'combined' not in filename:\n",
    "            file_path = os.path.join(data_folder_path, filename)\n",
    "            df = pd.read_csv(file_path)\n",
    "            df.set_index('Time', inplace=True)\n",
    "            stock_df = combine_dfs(stock_df, df)\n",
    "        else:\n",
    "            continue\n",
    "    combined_df = combine_dfs(combined_df, stock_df)\n",
    "        \n",
    "    \n",
    "combined_df.fillna(0, inplace=True)\n",
    "combined_df.sort_index(inplace=True)\n",
    "combined_df.to_csv(os.path.join(data_folder_path, 'combined', 'combined.csv'), index=True)\n",
    "\n",
    "#for i in range(len(dfs)):\n",
    "##    if i == 0:\n",
    "#        continue\n",
    "#    else:\n",
    "#        dfs[0] = pd.merge(dfs[0], dfs[i], how='outer')\n",
    "#combined_df = pd.merge(dfs, how='left')\n"
   ]
  },
  {
   "cell_type": "code",
   "execution_count": 5,
   "metadata": {},
   "outputs": [],
   "source": [
    "#read combined csv\n",
    "#convert everything into a percent change from the previous line\n",
    "#clip to -1, 1\n",
    "#remove the first line\n",
    "#save as npy file\n",
    "combined_csv_path = os.path.join(data_folder_path, 'combined/combined.csv')\n",
    "\n",
    "df = pd.read_csv(combined_csv_path)\n",
    "\n",
    "percent_change_df = df.iloc[:, 1:].pct_change()\n",
    "\n",
    "percent_change_df.clip(-1, 1, inplace=True)\n",
    "\n",
    "result_df = pd.concat([df.iloc[:, :1], percent_change_df], axis=1)\n",
    "\n",
    "percent_change_df = result_df.iloc[1:]  \n",
    "\n",
    "final_df = percent_change_df.fillna(0)\n",
    "\n",
    "final_df.to_csv('full_data.csv', index=False)"
   ]
  }
 ],
 "metadata": {
  "kernelspec": {
   "display_name": "Python 3",
   "language": "python",
   "name": "python3"
  },
  "language_info": {
   "codemirror_mode": {
    "name": "ipython",
    "version": 3
   },
   "file_extension": ".py",
   "mimetype": "text/x-python",
   "name": "python",
   "nbconvert_exporter": "python",
   "pygments_lexer": "ipython3",
   "version": "3.12.1 (tags/v3.12.1:2305ca5, Dec  7 2023, 22:03:25) [MSC v.1937 64 bit (AMD64)]"
  },
  "orig_nbformat": 4,
  "vscode": {
   "interpreter": {
    "hash": "9240d949b7e875368571ba59acc67192d2efbcc4561b3c6f94c83d7858e18732"
   }
  }
 },
 "nbformat": 4,
 "nbformat_minor": 2
}
